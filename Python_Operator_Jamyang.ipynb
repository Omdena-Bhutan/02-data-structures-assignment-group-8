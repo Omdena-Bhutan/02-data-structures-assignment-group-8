{
  "nbformat": 4,
  "nbformat_minor": 0,
  "metadata": {
    "colab": {
      "provenance": [],
      "authorship_tag": "ABX9TyPCP2OKbcu5GvbwVoyQpOa+",
      "include_colab_link": true
    },
    "kernelspec": {
      "name": "python3",
      "display_name": "Python 3"
    },
    "language_info": {
      "name": "python"
    }
  },
  "cells": [
    {
      "cell_type": "markdown",
      "metadata": {
        "id": "view-in-github",
        "colab_type": "text"
      },
      "source": [
        "<a href=\"https://colab.research.google.com/github/Omdena-Bhutan/02-data-structures-assignment-group-8/blob/main/Python_Operator_Jamyang.ipynb\" target=\"_parent\"><img src=\"https://colab.research.google.com/assets/colab-badge.svg\" alt=\"Open In Colab\"/></a>"
      ]
    },
    {
      "cell_type": "code",
      "execution_count": 1,
      "metadata": {
        "colab": {
          "base_uri": "https://localhost:8080/"
        },
        "id": "9tOlENTAht-x",
        "outputId": "1a711cc1-75da-4dea-8545-a7fb29cb3890"
      },
      "outputs": [
        {
          "output_type": "stream",
          "name": "stdout",
          "text": [
            "10\n"
          ]
        }
      ],
      "source": [
        "# Arithetics Operaters\n",
        "# Additon -\"+\"\n",
        "print(5+5)\n"
      ]
    },
    {
      "cell_type": "code",
      "source": [
        "# Exponent\n",
        "print (5 **5)"
      ],
      "metadata": {
        "colab": {
          "base_uri": "https://localhost:8080/"
        },
        "id": "4vQ2k8QwikKb",
        "outputId": "31332852-c2d0-4c77-84c8-a65abf503399"
      },
      "execution_count": 2,
      "outputs": [
        {
          "output_type": "stream",
          "name": "stdout",
          "text": [
            "3125\n"
          ]
        }
      ]
    },
    {
      "cell_type": "code",
      "source": [
        "# subtraction - \"-\"\n",
        "print(50 - 5)"
      ],
      "metadata": {
        "colab": {
          "base_uri": "https://localhost:8080/"
        },
        "id": "7lt472DYi5N8",
        "outputId": "b2973f9f-e26b-4a9e-ea58-303dacffd8b1"
      },
      "execution_count": 3,
      "outputs": [
        {
          "output_type": "stream",
          "name": "stdout",
          "text": [
            "45\n"
          ]
        }
      ]
    },
    {
      "cell_type": "code",
      "source": [
        "# Multiplication - \"*\"\n",
        "print (5*5)"
      ],
      "metadata": {
        "colab": {
          "base_uri": "https://localhost:8080/"
        },
        "id": "C9cw5xHCjZHy",
        "outputId": "e6578ae8-4456-48ee-c2b4-da0cf85f9cb2"
      },
      "execution_count": 4,
      "outputs": [
        {
          "output_type": "stream",
          "name": "stdout",
          "text": [
            "25\n"
          ]
        }
      ]
    },
    {
      "cell_type": "code",
      "source": [
        "# Division - \"/\"\n",
        "print(50/5)"
      ],
      "metadata": {
        "colab": {
          "base_uri": "https://localhost:8080/"
        },
        "id": "riZ--kU1kKPq",
        "outputId": "c8f4bff8-2081-43d3-c90a-483b60d175ae"
      },
      "execution_count": 5,
      "outputs": [
        {
          "output_type": "stream",
          "name": "stdout",
          "text": [
            "10.0\n"
          ]
        }
      ]
    },
    {
      "cell_type": "code",
      "source": [
        "# Floor Division Operatoer - \"//\"\n",
        "print(50//6)\n"
      ],
      "metadata": {
        "colab": {
          "base_uri": "https://localhost:8080/"
        },
        "id": "93aQtltLkUAK",
        "outputId": "b5250051-4e2c-4da9-8802-8e7f8a69b39f"
      },
      "execution_count": 6,
      "outputs": [
        {
          "output_type": "stream",
          "name": "stdout",
          "text": [
            "8\n"
          ]
        }
      ]
    },
    {
      "cell_type": "code",
      "source": [
        "# Modullus - \"%\"\n",
        "print(50 % 6)"
      ],
      "metadata": {
        "colab": {
          "base_uri": "https://localhost:8080/"
        },
        "id": "EjMGHdoEkojU",
        "outputId": "8dc82963-b8f8-4c2e-f13d-8d7740d0d67a"
      },
      "execution_count": 7,
      "outputs": [
        {
          "output_type": "stream",
          "name": "stdout",
          "text": [
            "2\n"
          ]
        }
      ]
    },
    {
      "cell_type": "markdown",
      "source": [
        "# Comparision (Relation) Operaters( True/False)\n",
        "- used to compare value"
      ],
      "metadata": {
        "id": "4ae8F5kzlKwk"
      }
    },
    {
      "cell_type": "code",
      "source": [
        "# Equlity\n",
        "# Equal to\n",
        "print (5==5)"
      ],
      "metadata": {
        "colab": {
          "base_uri": "https://localhost:8080/"
        },
        "id": "db49k_3albUz",
        "outputId": "8309c2f1-f075-4307-b387-5f4c7ed9b3fc"
      },
      "execution_count": 8,
      "outputs": [
        {
          "output_type": "stream",
          "name": "stdout",
          "text": [
            "True\n"
          ]
        }
      ]
    },
    {
      "cell_type": "code",
      "source": [
        "# Not equal\n",
        "print(5 !=5)"
      ],
      "metadata": {
        "colab": {
          "base_uri": "https://localhost:8080/"
        },
        "id": "0MEWo5L0lreC",
        "outputId": "0bd6efb1-b6f8-4e9e-afce-63690e6541cf"
      },
      "execution_count": 9,
      "outputs": [
        {
          "output_type": "stream",
          "name": "stdout",
          "text": [
            "False\n"
          ]
        }
      ]
    },
    {
      "cell_type": "code",
      "source": [
        "#Greater than\n",
        "print(5 > 3)"
      ],
      "metadata": {
        "colab": {
          "base_uri": "https://localhost:8080/"
        },
        "id": "VQWQjpMgl57i",
        "outputId": "e87fd4e4-07af-457b-fd88-ec8ea8142a06"
      },
      "execution_count": 11,
      "outputs": [
        {
          "output_type": "stream",
          "name": "stdout",
          "text": [
            "True\n"
          ]
        }
      ]
    },
    {
      "cell_type": "code",
      "source": [
        "# Less than\n",
        "print (5<3)"
      ],
      "metadata": {
        "colab": {
          "base_uri": "https://localhost:8080/"
        },
        "id": "zcK329-bmELa",
        "outputId": "702cbb9e-3089-4fb1-c86c-4c04d2ecbd04"
      },
      "execution_count": 12,
      "outputs": [
        {
          "output_type": "stream",
          "name": "stdout",
          "text": [
            "False\n"
          ]
        }
      ]
    },
    {
      "cell_type": "code",
      "source": [
        "# Greater than or equal to\n",
        "print (5>=5)"
      ],
      "metadata": {
        "colab": {
          "base_uri": "https://localhost:8080/"
        },
        "id": "Iiwe7F7UmOlS",
        "outputId": "2b36cf67-b4cb-4298-9587-667226f97d5b"
      },
      "execution_count": 13,
      "outputs": [
        {
          "output_type": "stream",
          "name": "stdout",
          "text": [
            "True\n"
          ]
        }
      ]
    },
    {
      "cell_type": "code",
      "source": [
        "# Less than or equal to\n",
        "print(5<=5)"
      ],
      "metadata": {
        "colab": {
          "base_uri": "https://localhost:8080/"
        },
        "id": "PjWVS_VMmieC",
        "outputId": "9099d457-a47c-47d1-acf0-53c8cab075ed"
      },
      "execution_count": 14,
      "outputs": [
        {
          "output_type": "stream",
          "name": "stdout",
          "text": [
            "True\n"
          ]
        }
      ]
    },
    {
      "cell_type": "markdown",
      "source": [
        "# Assignment Operater"
      ],
      "metadata": {
        "id": "LL4AhuA8myby"
      }
    },
    {
      "cell_type": "code",
      "source": [
        "# Assign - \"=\"\n",
        "x = 5\n",
        "print(x)"
      ],
      "metadata": {
        "colab": {
          "base_uri": "https://localhost:8080/"
        },
        "id": "YdQH46n5m5iq",
        "outputId": "7cf6ea5f-7925-4418-b865-18343ce3cb5e"
      },
      "execution_count": 15,
      "outputs": [
        {
          "output_type": "stream",
          "name": "stdout",
          "text": [
            "5\n"
          ]
        }
      ]
    },
    {
      "cell_type": "code",
      "source": [
        "# Add and assign - \"+=\"\n",
        "x+= 5\n",
        "print(x)"
      ],
      "metadata": {
        "colab": {
          "base_uri": "https://localhost:8080/"
        },
        "id": "TVAUC08XnO2y",
        "outputId": "66a6c6f5-6121-46d1-ad78-7b5f423ff901"
      },
      "execution_count": 17,
      "outputs": [
        {
          "output_type": "stream",
          "name": "stdout",
          "text": [
            "10\n"
          ]
        }
      ]
    },
    {
      "cell_type": "code",
      "source": [
        "# Subtracted and assign - \"-=\"\n",
        "x-=3\n",
        "print(x)"
      ],
      "metadata": {
        "colab": {
          "base_uri": "https://localhost:8080/"
        },
        "id": "1Mq6dy7qnkT6",
        "outputId": "e76e7f4c-7c4d-4a08-84ff-e586501ed385"
      },
      "execution_count": 18,
      "outputs": [
        {
          "output_type": "stream",
          "name": "stdout",
          "text": [
            "7\n"
          ]
        }
      ]
    },
    {
      "cell_type": "code",
      "source": [
        "# Multiply and assign- \"*=\"\n",
        "x*=3\n",
        "print(x)"
      ],
      "metadata": {
        "colab": {
          "base_uri": "https://localhost:8080/"
        },
        "id": "3eGo8txrn6tS",
        "outputId": "9a85f1f4-9e27-4c1b-fe8c-3e41ecaac07f"
      },
      "execution_count": 19,
      "outputs": [
        {
          "output_type": "stream",
          "name": "stdout",
          "text": [
            "21\n"
          ]
        }
      ]
    },
    {
      "cell_type": "code",
      "source": [
        "# Divide and assign \"/=\"\n",
        "x/=7\n",
        "print(x)"
      ],
      "metadata": {
        "colab": {
          "base_uri": "https://localhost:8080/"
        },
        "id": "MtKCjtBkoOkB",
        "outputId": "6afd59ea-9e1a-448f-bdd5-b7d5dd62f607"
      },
      "execution_count": 20,
      "outputs": [
        {
          "output_type": "stream",
          "name": "stdout",
          "text": [
            "3.0\n"
          ]
        }
      ]
    },
    {
      "cell_type": "code",
      "source": [
        "# Floor divide and assign \"//=\"\n",
        "x=16\n",
        "x//=5\n",
        "print(x)"
      ],
      "metadata": {
        "colab": {
          "base_uri": "https://localhost:8080/"
        },
        "id": "BDmr28rHo6V5",
        "outputId": "d2484c71-d34e-4eef-a214-914a6f4e82eb"
      },
      "execution_count": 21,
      "outputs": [
        {
          "output_type": "stream",
          "name": "stdout",
          "text": [
            "3\n"
          ]
        }
      ]
    },
    {
      "cell_type": "code",
      "source": [
        "#Modullus and assign - \"%=\"\n",
        "x= 9\n",
        "x %=2\n",
        "print(x)"
      ],
      "metadata": {
        "colab": {
          "base_uri": "https://localhost:8080/"
        },
        "id": "sEqfbj2TpNFc",
        "outputId": "eba359e6-155e-4079-f243-a1e17b7ece28"
      },
      "execution_count": 23,
      "outputs": [
        {
          "output_type": "stream",
          "name": "stdout",
          "text": [
            "1\n"
          ]
        }
      ]
    },
    {
      "cell_type": "code",
      "source": [
        "# Exponent and assign\n",
        "x **=2\n",
        "print(x)\n"
      ],
      "metadata": {
        "colab": {
          "base_uri": "https://localhost:8080/"
        },
        "id": "AT6gDp0EpmTi",
        "outputId": "79eb8656-6035-4b4b-b935-55687953c1a3"
      },
      "execution_count": 24,
      "outputs": [
        {
          "output_type": "stream",
          "name": "stdout",
          "text": [
            "1\n"
          ]
        }
      ]
    },
    {
      "cell_type": "markdown",
      "source": [
        "# Identify Operaters\n",
        "-used to check if 2 objects are in the same memory/reaction"
      ],
      "metadata": {
        "id": "2OAotwk3qEn6"
      }
    },
    {
      "cell_type": "code",
      "source": [
        "from re import X\n",
        "X = [1,2,3]\n",
        "Y = X\n",
        "Z = [1,2,3]\n",
        "print( X is Y )"
      ],
      "metadata": {
        "colab": {
          "base_uri": "https://localhost:8080/"
        },
        "id": "BwRixMHstVki",
        "outputId": "d5b552fc-df28-4b22-e801-6fa3e678f6da"
      },
      "execution_count": 31,
      "outputs": [
        {
          "output_type": "stream",
          "name": "stdout",
          "text": [
            "True\n"
          ]
        }
      ]
    },
    {
      "cell_type": "code",
      "source": [
        "print(X is 2) # false"
      ],
      "metadata": {
        "colab": {
          "base_uri": "https://localhost:8080/"
        },
        "id": "8excSqjSuQVj",
        "outputId": "0e195f3e-6633-472c-a25d-95f633d044b3"
      },
      "execution_count": 35,
      "outputs": [
        {
          "output_type": "stream",
          "name": "stdout",
          "text": [
            "False\n"
          ]
        },
        {
          "output_type": "stream",
          "name": "stderr",
          "text": [
            "<>:1: SyntaxWarning: \"is\" with 'int' literal. Did you mean \"==\"?\n",
            "<>:1: SyntaxWarning: \"is\" with 'int' literal. Did you mean \"==\"?\n",
            "/tmp/ipython-input-1101324240.py:1: SyntaxWarning: \"is\" with 'int' literal. Did you mean \"==\"?\n",
            "  print(X is 2) # false\n"
          ]
        }
      ]
    },
    {
      "cell_type": "markdown",
      "source": [
        "# Membership Operaters\n",
        "- use to check if a value exist in a sequence"
      ],
      "metadata": {
        "id": "Q9STeEyCu5BX"
      }
    },
    {
      "cell_type": "code",
      "source": [
        "# in\n",
        "\"a\" in \"apple\""
      ],
      "metadata": {
        "colab": {
          "base_uri": "https://localhost:8080/"
        },
        "id": "pZ8AXPo-vGNH",
        "outputId": "20f1fc37-c585-4576-c106-155da648b498"
      },
      "execution_count": 36,
      "outputs": [
        {
          "output_type": "execute_result",
          "data": {
            "text/plain": [
              "True"
            ]
          },
          "metadata": {},
          "execution_count": 36
        }
      ]
    },
    {
      "cell_type": "code",
      "source": [
        "\"X\" in \" Orrange\""
      ],
      "metadata": {
        "colab": {
          "base_uri": "https://localhost:8080/"
        },
        "id": "duhZeY8UvPiY",
        "outputId": "56be4164-dddc-41db-afbe-7a0275eb93b7"
      },
      "execution_count": 37,
      "outputs": [
        {
          "output_type": "execute_result",
          "data": {
            "text/plain": [
              "False"
            ]
          },
          "metadata": {},
          "execution_count": 37
        }
      ]
    },
    {
      "cell_type": "code",
      "source": [
        "# Not in\n",
        "\"a\" not in \"apple\""
      ],
      "metadata": {
        "colab": {
          "base_uri": "https://localhost:8080/"
        },
        "id": "kH0ogq2XvbHX",
        "outputId": "0f4f15ce-df9e-48b1-bbff-516393ab4f6f"
      },
      "execution_count": 38,
      "outputs": [
        {
          "output_type": "execute_result",
          "data": {
            "text/plain": [
              "False"
            ]
          },
          "metadata": {},
          "execution_count": 38
        }
      ]
    },
    {
      "cell_type": "markdown",
      "source": [
        "# Bitwise Operater ( Works on benenary numbers"
      ],
      "metadata": {
        "id": "WzONYbAGvwWH"
      }
    },
    {
      "cell_type": "code",
      "source": [
        "# AND &\n",
        "print(4 & 2)"
      ],
      "metadata": {
        "colab": {
          "base_uri": "https://localhost:8080/"
        },
        "id": "EJuqKZ3Gv6TX",
        "outputId": "08b4e37d-b649-460d-dae1-f7498e8aebe6"
      },
      "execution_count": 39,
      "outputs": [
        {
          "output_type": "stream",
          "name": "stdout",
          "text": [
            "0\n"
          ]
        }
      ]
    },
    {
      "cell_type": "code",
      "source": [
        "# XOR ^\n",
        "print(5^3)"
      ],
      "metadata": {
        "colab": {
          "base_uri": "https://localhost:8080/"
        },
        "id": "Qu-qkRYfwE2n",
        "outputId": "308e208c-9c8c-471c-9d1d-0de8e2eb9933"
      },
      "execution_count": 40,
      "outputs": [
        {
          "output_type": "stream",
          "name": "stdout",
          "text": [
            "6\n"
          ]
        }
      ]
    },
    {
      "cell_type": "code",
      "source": [
        "Not ~\n",
        "~5"
      ],
      "metadata": {
        "colab": {
          "base_uri": "https://localhost:8080/",
          "height": 111
        },
        "id": "jMTzaIRrwQRv",
        "outputId": "001d315d-a3ed-4aea-bfb1-075f8cf8267e"
      },
      "execution_count": 43,
      "outputs": [
        {
          "output_type": "error",
          "ename": "SyntaxError",
          "evalue": "invalid syntax (ipython-input-1501162228.py, line 1)",
          "traceback": [
            "\u001b[0;36m  File \u001b[0;32m\"/tmp/ipython-input-1501162228.py\"\u001b[0;36m, line \u001b[0;32m1\u001b[0m\n\u001b[0;31m    Not ~\u001b[0m\n\u001b[0m        ^\u001b[0m\n\u001b[0;31mSyntaxError\u001b[0m\u001b[0;31m:\u001b[0m invalid syntax\n"
          ]
        }
      ]
    },
    {
      "cell_type": "code",
      "source": [
        "# Left shift\n",
        "5<<1"
      ],
      "metadata": {
        "colab": {
          "base_uri": "https://localhost:8080/"
        },
        "id": "BTcnBaflwjDJ",
        "outputId": "4096e90c-8805-4838-ace6-683daf4fd5a6"
      },
      "execution_count": 44,
      "outputs": [
        {
          "output_type": "execute_result",
          "data": {
            "text/plain": [
              "10"
            ]
          },
          "metadata": {},
          "execution_count": 44
        }
      ]
    },
    {
      "cell_type": "code",
      "source": [
        "# Right shift\n",
        "5>>1"
      ],
      "metadata": {
        "colab": {
          "base_uri": "https://localhost:8080/"
        },
        "id": "cd4b0J41wsPY",
        "outputId": "b7fb236e-5df0-40e0-b49b-b0d6b5f74613"
      },
      "execution_count": 45,
      "outputs": [
        {
          "output_type": "execute_result",
          "data": {
            "text/plain": [
              "2"
            ]
          },
          "metadata": {},
          "execution_count": 45
        }
      ]
    },
    {
      "cell_type": "markdown",
      "source": [
        "# Logical Operaters\n",
        "-used to combine conditions"
      ],
      "metadata": {
        "id": "1tKR-BH6w00o"
      }
    },
    {
      "cell_type": "code",
      "source": [
        "# and - if returns a true in cases when both conditions are true."
      ],
      "metadata": {
        "id": "YEcxLwtfxgwf"
      },
      "execution_count": 50,
      "outputs": []
    },
    {
      "cell_type": "code",
      "source": [
        "# true and true"
      ],
      "metadata": {
        "id": "8sqeh6kAxz0W"
      },
      "execution_count": 53,
      "outputs": []
    }
  ]
}