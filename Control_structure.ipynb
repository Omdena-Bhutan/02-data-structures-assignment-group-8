{
  "nbformat": 4,
  "nbformat_minor": 0,
  "metadata": {
    "colab": {
      "provenance": [],
      "authorship_tag": "ABX9TyP1VKpzWRJ26eDchh4F2jAv",
      "include_colab_link": true
    },
    "kernelspec": {
      "name": "python3",
      "display_name": "Python 3"
    },
    "language_info": {
      "name": "python"
    }
  },
  "cells": [
    {
      "cell_type": "markdown",
      "metadata": {
        "id": "view-in-github",
        "colab_type": "text"
      },
      "source": [
        "<a href=\"https://colab.research.google.com/github/Omdena-Bhutan/02-data-structures-assignment-group-8/blob/main/Control_structure.ipynb\" target=\"_parent\"><img src=\"https://colab.research.google.com/assets/colab-badge.svg\" alt=\"Open In Colab\"/></a>"
      ]
    },
    {
      "cell_type": "code",
      "execution_count": 2,
      "metadata": {
        "colab": {
          "base_uri": "https://localhost:8080/"
        },
        "id": "dJZ5K7kNDQkR",
        "outputId": "897a8f5c-b483-4087-83bc-2cfcdab8ff6c"
      },
      "outputs": [
        {
          "output_type": "stream",
          "name": "stdout",
          "text": [
            "Enter your age: 22\n",
            "Your ticket price is 800\n"
          ]
        }
      ],
      "source": [
        "# Assignment 1\n",
        "# Ask the user to enter their age\n",
        "age = int(input(\"Enter your age: \"))\n",
        "\n",
        "# Decide the ticket price using if-elif-else\n",
        "if age < 12:\n",
        "    price = 300\n",
        "elif age >= 13 and age <= 17:\n",
        "    price = 500\n",
        "elif age >= 18 and age <= 59:\n",
        "    price = 800\n",
        "else:  # age 60 or above\n",
        "    price = 400\n",
        "\n",
        "# Print the result\n",
        "print(f\"Your ticket price is {price}\")"
      ]
    },
    {
      "cell_type": "code",
      "source": [
        "# Assignment 2\n",
        "# Step 1: Pick a secret number\n",
        "secret_number = 7  # You can choose any number\n",
        "\n",
        "# Step 2: Ask the user to guess\n",
        "guess = int(input(\"Guess the secret number: \"))\n",
        "\n",
        "# Step 3: Keep asking until the user guesses correctly\n",
        "while guess != secret_number:\n",
        "    print(\"Wrong guess, try again!\")\n",
        "    guess = int(input(\"Guess the secret number: \"))\n",
        "\n",
        "# Step 4: Print congratulation message\n",
        "print(\"Congratulations! You guessed correctly.\")"
      ],
      "metadata": {
        "colab": {
          "base_uri": "https://localhost:8080/"
        },
        "id": "Qk4TxoToDf9j",
        "outputId": "f354312f-7eaa-4731-a076-664215c93678"
      },
      "execution_count": 1,
      "outputs": [
        {
          "output_type": "stream",
          "name": "stdout",
          "text": [
            "Guess the secret number: 3\n",
            "Wrong guess, try again!\n",
            "Guess the secret number: 5\n",
            "Wrong guess, try again!\n",
            "Guess the secret number: 7\n",
            "Congratulations! You guessed correctly.\n"
          ]
        }
      ]
    },
    {
      "cell_type": "code",
      "source": [
        "\n",
        "# Define the function to calculate grade\n",
        "def calculate_grade(marks):\n",
        "    if marks >= 90 and marks <= 100:\n",
        "        return \"A\"\n",
        "    elif marks >= 80 and marks <= 89:\n",
        "        return \"B\"\n",
        "    elif marks >= 70 and marks <= 79:\n",
        "        return \"C\"\n",
        "    elif marks >= 60 and marks <= 69:\n",
        "        return \"D\"\n",
        "    else:  # marks below 60\n",
        "        return \"Failed\"\n",
        "\n",
        "# Ask the user to enter their marks\n",
        "marks = int(input(\"Enter your marks (0-100): \"))\n",
        "\n",
        "# Call the function and store the result\n",
        "grade = calculate_grade(marks)\n",
        "\n",
        "# Print the grade\n",
        "print(f\"Your grade is {grade}\")"
      ],
      "metadata": {
        "colab": {
          "base_uri": "https://localhost:8080/"
        },
        "id": "8mX8H9YcIZE9",
        "outputId": "3daf4aec-b5fb-4cbf-dbe8-79cddf10626b"
      },
      "execution_count": 3,
      "outputs": [
        {
          "output_type": "stream",
          "name": "stdout",
          "text": [
            "Enter your marks (0-100): 89\n",
            "Your grade is B\n"
          ]
        }
      ]
    }
  ]
}