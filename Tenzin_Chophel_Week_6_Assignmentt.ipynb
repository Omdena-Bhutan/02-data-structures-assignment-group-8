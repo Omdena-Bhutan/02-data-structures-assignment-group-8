{
  "nbformat": 4,
  "nbformat_minor": 0,
  "metadata": {
    "colab": {
      "provenance": [],
      "authorship_tag": "ABX9TyMRPKkhDYVhy/Kumfeaap6n",
      "include_colab_link": true
    },
    "kernelspec": {
      "name": "python3",
      "display_name": "Python 3"
    },
    "language_info": {
      "name": "python"
    }
  },
  "cells": [
    {
      "cell_type": "markdown",
      "metadata": {
        "id": "view-in-github",
        "colab_type": "text"
      },
      "source": [
        "<a href=\"https://colab.research.google.com/github/Omdena-Bhutan/02-data-structures-assignment-group-8/blob/main/Tenzin_Chophel_Week_6_Assignmentt.ipynb\" target=\"_parent\"><img src=\"https://colab.research.google.com/assets/colab-badge.svg\" alt=\"Open In Colab\"/></a>"
      ]
    },
    {
      "cell_type": "markdown",
      "source": [
        "Assignment 1"
      ],
      "metadata": {
        "id": "nPjEib_ttVyE"
      }
    },
    {
      "cell_type": "code",
      "execution_count": 1,
      "metadata": {
        "colab": {
          "base_uri": "https://localhost:8080/"
        },
        "id": "nMBJOmqfs0nV",
        "outputId": "30f40268-41ca-4e28-eb58-9ed140b66072"
      },
      "outputs": [
        {
          "output_type": "stream",
          "name": "stdout",
          "text": [
            "Please enter your age: 50\n",
            "your ticket price is 800\n"
          ]
        }
      ],
      "source": [
        "age = int(input(\"Please enter your age: \"))\n",
        "if age < 12:\n",
        "  price = 300\n",
        "elif 12 <= age <= 17:\n",
        " price = 500\n",
        "elif 18 <= age <= 59:\n",
        " price = 800\n",
        "else: # age >= 60\n",
        " price = 400\n",
        "print(f\"your ticket price is {price}\")"
      ]
    },
    {
      "cell_type": "code",
      "source": [
        "import datetime\n",
        "\n",
        "# check if today is Wednesday\n",
        "today = datetime.datetime.today().strftime('%A')\n",
        "if today == \"Wednesday\":\n",
        "  price -= 100\n",
        "\n",
        "# Print the result\n",
        "print(f\"your ticket price is Nu.{price}\")"
      ],
      "metadata": {
        "colab": {
          "base_uri": "https://localhost:8080/"
        },
        "id": "nphVtKdlti7b",
        "outputId": "5d6f2d35-97c8-4102-c4e7-f9505d20ced6"
      },
      "execution_count": 2,
      "outputs": [
        {
          "output_type": "stream",
          "name": "stdout",
          "text": [
            "your ticket price is Nu.800\n"
          ]
        }
      ]
    }
  ]
}