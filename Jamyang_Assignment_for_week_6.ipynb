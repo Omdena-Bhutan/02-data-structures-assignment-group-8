{
  "nbformat": 4,
  "nbformat_minor": 0,
  "metadata": {
    "colab": {
      "provenance": [],
      "authorship_tag": "ABX9TyNPVQH0lFAXeIRQPLiD5N8C",
      "include_colab_link": true
    },
    "kernelspec": {
      "name": "python3",
      "display_name": "Python 3"
    },
    "language_info": {
      "name": "python"
    }
  },
  "cells": [
    {
      "cell_type": "markdown",
      "metadata": {
        "id": "view-in-github",
        "colab_type": "text"
      },
      "source": [
        "<a href=\"https://colab.research.google.com/github/Omdena-Bhutan/02-data-structures-assignment-group-8/blob/main/Jamyang_Assignment_for_week_6.ipynb\" target=\"_parent\"><img src=\"https://colab.research.google.com/assets/colab-badge.svg\" alt=\"Open In Colab\"/></a>"
      ]
    },
    {
      "cell_type": "markdown",
      "source": [
        "Assignment 1"
      ],
      "metadata": {
        "id": "A00SGVb-8zoK"
      }
    },
    {
      "cell_type": "code",
      "source": [
        "age = int(input(\"Please enter your age: \"))\n",
        "if age < 12:\n",
        "  price = 300\n",
        "elif 12 <= age <= 17:\n",
        " price = 500\n",
        "elif 18 <= age <= 59:\n",
        " price = 800\n",
        "else: # age >= 60\n",
        " price = 400\n",
        "print(f\"your ticket price is {price}\")\n"
      ],
      "metadata": {
        "id": "3-t3tbIzICT-",
        "colab": {
          "base_uri": "https://localhost:8080/"
        },
        "outputId": "f31dc62c-7464-4b4f-979b-abab452ce2fc"
      },
      "execution_count": 15,
      "outputs": [
        {
          "output_type": "stream",
          "name": "stdout",
          "text": [
            "Please enter your age: 43\n",
            "your ticket price is 800\n"
          ]
        }
      ]
    },
    {
      "cell_type": "code",
      "source": [
        "import datetime\n",
        "\n",
        "# check if today is Wednesday\n",
        "today = datetime.datetime.today().strftime('%A')\n",
        "if today == \"Wednesday\":\n",
        "  price -= 100\n",
        "\n",
        "# Print the result\n",
        "print(f\"your ticket price is Nu.{price}\")"
      ],
      "metadata": {
        "colab": {
          "base_uri": "https://localhost:8080/"
        },
        "id": "J8ZxNm5GM0_U",
        "outputId": "2bdfeeb8-7587-430f-9d93-1e079eb50830"
      },
      "execution_count": 17,
      "outputs": [
        {
          "output_type": "stream",
          "name": "stdout",
          "text": [
            "your ticket price is Nu.800\n"
          ]
        }
      ]
    },
    {
      "cell_type": "markdown",
      "source": [
        "Assignment 2"
      ],
      "metadata": {
        "id": "kFfH5CzaUy6v"
      }
    },
    {
      "cell_type": "code",
      "source": [
        "# Secret number\n",
        "secret_number = 20\n",
        "\n",
        "# Ask the user to guess\n",
        "guess = int(input(\"Guess the secret number: \"))\n",
        "\n",
        "# Keep asking until the user guesses correctly\n",
        "while guess != secret_number:\n",
        "    print(\"Wrong guess. Try again!\")\n",
        "    guess = int(input(\"Guess the secret number: \"))\n",
        "\n",
        "# Correct guess\n",
        "print(\"Congratulations! You guessed correctly!\")"
      ],
      "metadata": {
        "colab": {
          "base_uri": "https://localhost:8080/"
        },
        "id": "Xial9OLhU0_W",
        "outputId": "ed6039e4-8a96-4d00-df10-37f84d537855"
      },
      "execution_count": 19,
      "outputs": [
        {
          "output_type": "stream",
          "name": "stdout",
          "text": [
            "Guess the secret number: 9\n",
            "Wrong guess. Try again!\n",
            "Guess the secret number: 17\n",
            "Wrong guess. Try again!\n",
            "Guess the secret number: 20\n",
            "Congratulations! You guessed correctly!\n"
          ]
        }
      ]
    },
    {
      "cell_type": "markdown",
      "source": [
        "Assignment 3 Keyward argument"
      ],
      "metadata": {
        "id": "_iKsbeBkVZhv"
      }
    },
    {
      "cell_type": "code",
      "source": [
        "def greet(name, age):\n",
        "    print(f\"Hi! i am, {name}, {age} years old.\")\n",
        "\n",
        "# Using keyword arguments\n",
        "greet(name=\"Jamyang\", age=15)"
      ],
      "metadata": {
        "colab": {
          "base_uri": "https://localhost:8080/"
        },
        "id": "yJayaAGEVajm",
        "outputId": "e443dbe8-07d3-43b6-99c4-4bca7b62cc85"
      },
      "execution_count": 20,
      "outputs": [
        {
          "output_type": "stream",
          "name": "stdout",
          "text": [
            "Hi! i am, Jamyang, 15 years old.\n"
          ]
        }
      ]
    },
    {
      "cell_type": "markdown",
      "source": [
        " Variable Number of Arguments\n",
        "\n",
        " - args and **Kwargs"
      ],
      "metadata": {
        "id": "lKCFyTPqV5c-"
      }
    },
    {
      "cell_type": "code",
      "source": [
        "def greet_all(*args):\n",
        "    for name in args:\n",
        "        print(f\"Hello, {name}!\")\n",
        "\n",
        "greet_all(\"Jamyang\", \"Tenzin\", \"Kinga\")"
      ],
      "metadata": {
        "colab": {
          "base_uri": "https://localhost:8080/"
        },
        "id": "9oOrQAhBWJzl",
        "outputId": "dfbee4fc-3d69-4bfa-c1d4-eade5d8b3cdb"
      },
      "execution_count": 21,
      "outputs": [
        {
          "output_type": "stream",
          "name": "stdout",
          "text": [
            "Hello, Jamyang!\n",
            "Hello, Tenzin!\n",
            "Hello, Kinga!\n"
          ]
        }
      ]
    },
    {
      "cell_type": "code",
      "source": [
        "def add_numbers(*args):\n",
        "    total = 2\n",
        "    for num in args:\n",
        "        total += num\n",
        "    print(f\"The sum is {total}\")\n",
        "\n",
        "# Calling function with different number of arguments\n",
        "add_numbers(11,12)\n",
        "add_numbers(5, 10, 15, 20)"
      ],
      "metadata": {
        "colab": {
          "base_uri": "https://localhost:8080/"
        },
        "id": "X52joI6QWiD1",
        "outputId": "e67f2b57-0b67-40ab-bf47-13dc11feee28"
      },
      "execution_count": 22,
      "outputs": [
        {
          "output_type": "stream",
          "name": "stdout",
          "text": [
            "The sum is 25\n",
            "The sum is 52\n"
          ]
        }
      ]
    },
    {
      "cell_type": "code",
      "source": [
        "def print_user_info(**kwargs):\n",
        "    for key, value in kwargs.items():\n",
        "        print(f\"{key} = {value}\")\n",
        "\n",
        "print_user_info(name=\"Jamyang\", age=30, country=\"India\")"
      ],
      "metadata": {
        "colab": {
          "base_uri": "https://localhost:8080/"
        },
        "id": "6FGpSLtxWqMF",
        "outputId": "3ac7ee43-6e94-484a-c882-03c6874692a2"
      },
      "execution_count": 23,
      "outputs": [
        {
          "output_type": "stream",
          "name": "stdout",
          "text": [
            "name = Jamyang\n",
            "age = 30\n",
            "country = India\n"
          ]
        }
      ]
    },
    {
      "cell_type": "code",
      "source": [
        "def mixed_demo(a, b, *args, **kwargs):\n",
        "    print(\"a =\", a)\n",
        "    print(\"b =\", b)\n",
        "\n",
        "    print(\"args:\", args)\n",
        "    print(\"kwargs:\", kwargs)\n",
        "\n",
        "mixed_demo(1, 2, 3, 4, 5, name=\"Khando\", city=\"Thimphu\")"
      ],
      "metadata": {
        "colab": {
          "base_uri": "https://localhost:8080/"
        },
        "id": "Fu-0LeIwW1Xt",
        "outputId": "95164e10-5453-4cf6-f413-6eb7e04b52af"
      },
      "execution_count": 24,
      "outputs": [
        {
          "output_type": "stream",
          "name": "stdout",
          "text": [
            "a = 1\n",
            "b = 2\n",
            "args: (3, 4, 5)\n",
            "kwargs: {'name': 'Khando', 'city': 'Thimphu'}\n"
          ]
        }
      ]
    },
    {
      "cell_type": "markdown",
      "source": [
        "Assignment 4"
      ],
      "metadata": {
        "id": "dDCzy2lLW9St"
      }
    },
    {
      "cell_type": "code",
      "source": [
        "# Function to calculate grade based on marks\n",
        "def calculate_grade(marks):\n",
        "    if 90 <= marks <= 100:\n",
        "        return \"A\"\n",
        "    elif 80 <= marks <= 89:\n",
        "        return \"B\"\n",
        "    elif 70 <= marks <= 79:\n",
        "        return \"C\"\n",
        "    elif 60 <= marks <= 69:\n",
        "        return \"D\"\n",
        "    elif 0 <= marks < 60:\n",
        "        return \"Failed\"\n",
        "    else:\n",
        "        return \"Invalid marks. Please enter a number between 0 and 100.\"\n",
        "\n",
        "# Get input from the user\n",
        "try:\n",
        "    marks = float(input(\"Enter your marks (0-100): \"))\n",
        "    grade = calculate_grade(marks)\n",
        "    print(f\"Your grade is: {grade}\")\n",
        "except ValueError:\n",
        "    print(\"Invalid input. Please enter a number.\")"
      ],
      "metadata": {
        "colab": {
          "base_uri": "https://localhost:8080/"
        },
        "id": "OxUd0oofW-Wm",
        "outputId": "5482cbbb-082d-4e14-b967-1a1647252fb6"
      },
      "execution_count": 25,
      "outputs": [
        {
          "output_type": "stream",
          "name": "stdout",
          "text": [
            "Enter your marks (0-100): 90\n",
            "Your grade is: A\n"
          ]
        }
      ]
    }
  ]
}