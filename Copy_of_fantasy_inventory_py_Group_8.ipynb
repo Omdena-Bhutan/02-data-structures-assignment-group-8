{
  "nbformat": 4,
  "nbformat_minor": 0,
  "metadata": {
    "colab": {
      "provenance": [],
      "authorship_tag": "ABX9TyMQ+uWlXE+7LHzOZtArXys4",
      "include_colab_link": true
    },
    "kernelspec": {
      "name": "python3",
      "display_name": "Python 3"
    },
    "language_info": {
      "name": "python"
    }
  },
  "cells": [
    {
      "cell_type": "markdown",
      "metadata": {
        "id": "view-in-github",
        "colab_type": "text"
      },
      "source": [
        "<a href=\"https://colab.research.google.com/github/Omdena-Bhutan/02-data-structures-assignment-group-8/blob/main/Copy_of_fantasy_inventory_py_Group_8.ipynb\" target=\"_parent\"><img src=\"https://colab.research.google.com/assets/colab-badge.svg\" alt=\"Open In Colab\"/></a>"
      ]
    },
    {
      "cell_type": "markdown",
      "source": [
        "01- Data Structures\n",
        "\n",
        "Python Data Structures and Data Types: A project Based Assignment\n",
        "\n",
        "Project Title: Fantasy Quest Inventory Management System\n"
      ],
      "metadata": {
        "id": "_Sypa1yuQELw"
      }
    },
    {
      "cell_type": "markdown",
      "source": [
        "Part 1: Character Profile"
      ],
      "metadata": {
        "id": "LyB5QWFhlvjd"
      }
    },
    {
      "cell_type": "code",
      "source": [
        "# creating a dictionary\n",
        "character_profile = {\n",
        "    \"name\":\"Alistair the Brave\",\n",
        "    \"level\": 1,\n",
        "    \"health\":100,\n",
        "    \"mana\":50,\n",
        "    \"gold\":50.75,\n",
        "    \"is_alive\": True\n",
        "}"
      ],
      "metadata": {
        "id": "yEdAt594Kdpj"
      },
      "execution_count": null,
      "outputs": []
    },
    {
      "cell_type": "code",
      "source": [
        "# print cahracter's name and level\n",
        "print(f\"character:{character_profile [\"name\"]},level:{character_profile[\"level\"]}\")"
      ],
      "metadata": {
        "colab": {
          "base_uri": "https://localhost:8080/"
        },
        "id": "JJLKxMfULTVz",
        "outputId": "34cd64d8-b1e6-413b-fdf3-828de2c1eccf"
      },
      "execution_count": null,
      "outputs": [
        {
          "output_type": "stream",
          "name": "stdout",
          "text": [
            "character:Alistair the Brave,level:1\n"
          ]
        }
      ]
    },
    {
      "cell_type": "code",
      "source": [
        "# update health to 85\n",
        "character_profile[\"health\"]"
      ],
      "metadata": {
        "colab": {
          "base_uri": "https://localhost:8080/"
        },
        "id": "2QPy7kiCNZDQ",
        "outputId": "e655e1d2-1584-4532-b9e8-5217f36b343d"
      },
      "execution_count": null,
      "outputs": [
        {
          "output_type": "execute_result",
          "data": {
            "text/plain": [
              "85"
            ]
          },
          "metadata": {},
          "execution_count": 44
        }
      ]
    },
    {
      "cell_type": "code",
      "source": [
        "# add experience key\n",
        "character_profile[\"experience\"]"
      ],
      "metadata": {
        "colab": {
          "base_uri": "https://localhost:8080/"
        },
        "id": "X0CIbc-hOUXp",
        "outputId": "515a8d4a-a5c2-433f-b5bb-868049618b31"
      },
      "execution_count": null,
      "outputs": [
        {
          "output_type": "execute_result",
          "data": {
            "text/plain": [
              "0"
            ]
          },
          "metadata": {},
          "execution_count": 45
        }
      ]
    },
    {
      "cell_type": "code",
      "source": [
        "# print final character profile\n",
        "print(\"\\nfinal character profile:\")\n",
        "print(character_profile)"
      ],
      "metadata": {
        "colab": {
          "base_uri": "https://localhost:8080/"
        },
        "id": "0LrNGQVGOnAf",
        "outputId": "2c3b4847-cc3c-4fda-9dd5-c09def49d7f0"
      },
      "execution_count": null,
      "outputs": [
        {
          "output_type": "stream",
          "name": "stdout",
          "text": [
            "\n",
            "final character profile:\n",
            "{'name': 'Alistair the Brave', 'level': 1, 'health': 85, 'mana': 50, 'gold': 50.75, 'is_alive': True, 'experience': 0}\n"
          ]
        }
      ]
    },
    {
      "cell_type": "markdown",
      "source": [
        "# Part 2 : Inventory System"
      ],
      "metadata": {
        "id": "lcCC27x8Q_e2"
      }
    },
    {
      "cell_type": "code",
      "source": [
        "# list to hold inventory items\n",
        "inventory=[\"sword\",\"shield\",\"health potion\"]\n"
      ],
      "metadata": {
        "id": "EkdXFYrbRGFG"
      },
      "execution_count": null,
      "outputs": []
    },
    {
      "cell_type": "code",
      "source": [
        "# Add a new item mama portion\n",
        "inventory.append(\"mama portion\")"
      ],
      "metadata": {
        "id": "R-Pviw9KSHP2"
      },
      "execution_count": null,
      "outputs": []
    },
    {
      "cell_type": "code",
      "source": [
        "# remove an existing item sheild\n",
        "inventory.remove(\"shield\")"
      ],
      "metadata": {
        "id": "H-xpQz8XSlDm"
      },
      "execution_count": null,
      "outputs": []
    },
    {
      "cell_type": "code",
      "source": [
        "# print invenory items\n",
        "print(\"\\nCurrent Inventory:\")\n",
        "for item in  inventory:\n",
        "  print (f\"-{item}\")\n"
      ],
      "metadata": {
        "colab": {
          "base_uri": "https://localhost:8080/"
        },
        "id": "08r0TwZuS2CN",
        "outputId": "2d9fe061-c5b6-4acf-cfef-a6df0e73741e"
      },
      "execution_count": null,
      "outputs": [
        {
          "output_type": "stream",
          "name": "stdout",
          "text": [
            "\n",
            "Current Inventory:\n",
            "-sword\n",
            "-health potion\n",
            "-mama portion\n"
          ]
        }
      ]
    },
    {
      "cell_type": "markdown",
      "source": [
        "# Part 3: Character Stats (Tuple)"
      ],
      "metadata": {
        "id": "FVQ2NuXeXR5O"
      }
    },
    {
      "cell_type": "code",
      "source": [
        "# Base stats stored in an immutable tuple (strength,dexterity,intelligence)\n",
        "base_stats = (10, 8, 12)"
      ],
      "metadata": {
        "id": "DP0cM1PaXjD1"
      },
      "execution_count": null,
      "outputs": []
    },
    {
      "cell_type": "code",
      "source": [
        "# why use a tuple ?\n",
        "print(\"/nBase Stats are stored in a tuple because they are immutable and won't cahnge.\")"
      ],
      "metadata": {
        "id": "Lbmrg1rKbo9j"
      },
      "execution_count": null,
      "outputs": []
    },
    {
      "cell_type": "code",
      "source": [
        "# Access and print intelligence\n",
        "print(f\"Intelligence: {base_stats[1]}\")"
      ],
      "metadata": {
        "colab": {
          "base_uri": "https://localhost:8080/"
        },
        "id": "cCBAompDZgRt",
        "outputId": "2b7acdd4-0f4b-43d9-bd80-2f16632fcc0b"
      },
      "execution_count": null,
      "outputs": [
        {
          "output_type": "stream",
          "name": "stdout",
          "text": [
            "Intelligence: 8\n"
          ]
        }
      ]
    },
    {
      "cell_type": "code",
      "source": [
        "# Challenge :try to change a tuiple value ( will rise an error)\n",
        "base_stats (0)=15\n",
        "except TypeError as e:\n",
        "  print(f\"Error when typing to modify tuiple:{e}\")"
      ],
      "metadata": {
        "colab": {
          "base_uri": "https://localhost:8080/",
          "height": 106
        },
        "id": "5WqtYhKDaTDc",
        "outputId": "59ea47de-7757-485e-9916-aa2f4748912b"
      },
      "execution_count": null,
      "outputs": [
        {
          "output_type": "error",
          "ename": "SyntaxError",
          "evalue": "cannot assign to function call here. Maybe you meant '==' instead of '='? (ipython-input-1214046392.py, line 2)",
          "traceback": [
            "\u001b[0;36m  File \u001b[0;32m\"/tmp/ipython-input-1214046392.py\"\u001b[0;36m, line \u001b[0;32m2\u001b[0m\n\u001b[0;31m    base_stats (0)=15\u001b[0m\n\u001b[0m    ^\u001b[0m\n\u001b[0;31mSyntaxError\u001b[0m\u001b[0;31m:\u001b[0m cannot assign to function call here. Maybe you meant '==' instead of '='?\n"
          ]
        }
      ]
    },
    {
      "cell_type": "markdown",
      "source": [
        "# Part 4: Quest log (Using sets)"
      ],
      "metadata": {
        "id": "Fh2J7_u_dWTb"
      }
    },
    {
      "cell_type": "code",
      "source": [
        "# using a set to store unique quest titles\n",
        "quest_log = {\"Defeat the Goblin King\", \"Find the Lost Amulet\"}"
      ],
      "metadata": {
        "id": "7UGSYpUtdfK6"
      },
      "execution_count": null,
      "outputs": []
    },
    {
      "cell_type": "code",
      "source": [
        "# Add a new quest\n",
        "quest_log.add(\"Defeat the Old scroll\")"
      ],
      "metadata": {
        "id": "aIy82S9SexSL"
      },
      "execution_count": null,
      "outputs": []
    },
    {
      "cell_type": "code",
      "source": [
        "# Attempt to add a dublicate quest\n",
        "quest_log.add(\"Defeat the Goblin King\") # it will not allow dublicate"
      ],
      "metadata": {
        "id": "xcwQ7fJbfwv6"
      },
      "execution_count": null,
      "outputs": []
    },
    {
      "cell_type": "code",
      "source": [
        "# Remove a completed quest\n",
        "quest_log.remove(\"Find the Lost Amulet\")"
      ],
      "metadata": {
        "id": "4KxBesl1gP4b"
      },
      "execution_count": null,
      "outputs": []
    },
    {
      "cell_type": "code",
      "source": [
        "# print final quest log\n",
        "print(\"\\nCurrent Quest Log:\")\n",
        "for quest in quest_log:\n",
        "  print(f\"-{quest}\")\n",
        "\n"
      ],
      "metadata": {
        "colab": {
          "base_uri": "https://localhost:8080/"
        },
        "id": "DYAvBOdcjyZM",
        "outputId": "cebdda48-e884-4796-a669-39ee19411de5"
      },
      "execution_count": null,
      "outputs": [
        {
          "output_type": "stream",
          "name": "stdout",
          "text": [
            "\n",
            "Current Quest Log:\n",
            "-Defeat the Old scroll\n",
            "-Defeat the Goblin King\n"
          ]
        }
      ]
    },
    {
      "cell_type": "markdown",
      "source": [
        "# Part 5 : Puting it all Together"
      ],
      "metadata": {
        "id": "fo0Bjr0Bkrzq"
      }
    },
    {
      "cell_type": "code",
      "source": [
        "# create a dictionary to hold all  companents of the character\n",
        "character_sheet ={\n",
        "    \"profile\" : character_profile,\n",
        "    \"Inventory\" : inventory,\n",
        "    \"stats\" : base_stats,\n",
        "    \"quest\" : quest_log\n",
        "}"
      ],
      "metadata": {
        "id": "MfJpFyefk3pp"
      },
      "execution_count": null,
      "outputs": []
    },
    {
      "cell_type": "code",
      "source": [
        "# print the complete character sheet\n",
        "print(\"\\nFinal character sheet:\")\n",
        "for key, value in character_sheet.items():\n",
        "  print(f\"\\nkey.capitalize():\")\n",
        "  print(value)"
      ],
      "metadata": {
        "colab": {
          "base_uri": "https://localhost:8080/"
        },
        "id": "_nC-N4MbnOAR",
        "outputId": "92b6e91a-697f-4cb6-fcba-a9b717aab4b9"
      },
      "execution_count": null,
      "outputs": [
        {
          "output_type": "stream",
          "name": "stdout",
          "text": [
            "\n",
            "Final character sheet:\n",
            "\n",
            "key.capitalize():\n",
            "{'name': 'Alistair the Brave', 'level': 1, 'health': 85, 'mana': 50, 'gold': 50.75, 'is_alive': True, 'experience': 0}\n",
            "\n",
            "key.capitalize():\n",
            "['sword', 'health potion', 'mama portion']\n",
            "\n",
            "key.capitalize():\n",
            "(10, 8, 12)\n",
            "\n",
            "key.capitalize():\n",
            "{'Defeat the Old scroll', 'Defeat the Goblin King', 'Find the Lost Amulet'}\n"
          ]
        }
      ]
    }
  ]
}